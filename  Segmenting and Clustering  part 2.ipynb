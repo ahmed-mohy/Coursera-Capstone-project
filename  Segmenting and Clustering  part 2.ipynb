{
    "nbformat_minor": 1, 
    "cells": [
        {
            "source": "**We need to get the latitude and the longitude coordinates of each neighborhood to be added to df_toronto that we already built in the previous notebook so we are going to repeat some steps**", 
            "cell_type": "markdown", 
            "metadata": {
                "collapsed": true
            }
        }, 
        {
            "source": "**Extracting the table again**", 
            "cell_type": "markdown", 
            "metadata": {}
        }, 
        {
            "source": "import pandas as pd\nimport numpy as np\nfrom bs4 import BeautifulSoup\nimport requests\n\nwiki_link='https://en.wikipedia.org/wiki/List_of_postal_codes_of_Canada:_M'\nraw_wiki_page= requests.get(wiki_link).text\n\nsoup = BeautifulSoup(raw_wiki_page,'lxml')", 
            "cell_type": "code", 
            "metadata": {}, 
            "outputs": [], 
            "execution_count": 1
        }, 
        {
            "source": "table = soup.find('table')\n\nPostcode      = []\nBorough       = []\nNeighbourhood = []\n\nfor tr_cell in table.find_all('tr'):\n    \n    counter = 1\n    Postcode_var      = -1\n    Borough_var       = -1\n    Neighbourhood_var = -1\n    \n    for td_cell in tr_cell.find_all('td'):\n        if counter == 1: \n            Postcode_var = td_cell.text\n        if counter == 2: \n            Borough_var = td_cell.text\n            tag_a_Borough = td_cell.find('a')\n            \n        if counter == 3: \n            Neighbourhood_var = str(td_cell.text).strip()\n            tag_a_Neighbourhood = td_cell.find('a')\n            \n        counter +=1\n        \n    if (Postcode_var == 'Not assigned' or Borough_var == 'Not assigned' or Neighbourhood_var == 'Not assigned'): \n        continue\n    try:\n        if ((tag_a_Borough is None) or (tag_a_Neighbourhood is None)):\n            continue\n    except:\n        pass\n    if(Postcode_var == -1 or Borough_var == -1 or Neighbourhood_var == -1):\n        continue\n        \n    Postcode.append(Postcode_var)\n    Borough.append(Borough_var)\n    Neighbourhood.append(Neighbourhood_var)", 
            "cell_type": "code", 
            "metadata": {}, 
            "outputs": [], 
            "execution_count": 2
        }, 
        {
            "source": "unique_p = set(Postcode)\nprint('num of unique Postal codes:', len(unique_p))\nPostcode_T      = []\nBorough_T       = []\nNeighbourhood_T = []\n\n\nfor postcode_unique_element in unique_p:\n    p_var = ''; b_var = ''; n_var = ''; \n    for postcode_idx, postcode_element in enumerate(Postcode):\n        if postcode_unique_element == postcode_element:\n            p_var = postcode_element;\n            b_var = Borough[postcode_idx]\n            if n_var == '': \n                n_var = Neighbourhood[postcode_idx]\n            else:\n                n_var = n_var + ', ' + Neighbourhood[postcode_idx]\n    Postcode_T.append(p_var)\n    Borough_T.append(b_var)\n    Neighbourhood_T.append(n_var)", 
            "cell_type": "code", 
            "metadata": {}, 
            "outputs": [
                {
                    "output_type": "stream", 
                    "name": "stdout", 
                    "text": "num of unique Postal codes: 84\n"
                }
            ], 
            "execution_count": 3
        }, 
        {
            "source": "**Creating the df_toronto**", 
            "cell_type": "markdown", 
            "metadata": {}
        }, 
        {
            "source": "df_toronto = pd.DataFrame({'Borough':Borough_T,'Neighbourhood':Neighbourhood_T,'Postalcode':Postcode_T,},columns=['Postalcode','Borough','Neighbourhood',])\ndf_toronto.head(15)", 
            "cell_type": "code", 
            "metadata": {}, 
            "outputs": [
                {
                    "output_type": "execute_result", 
                    "data": {
                        "text/html": "<div>\n<style scoped>\n    .dataframe tbody tr th:only-of-type {\n        vertical-align: middle;\n    }\n\n    .dataframe tbody tr th {\n        vertical-align: top;\n    }\n\n    .dataframe thead th {\n        text-align: right;\n    }\n</style>\n<table border=\"1\" class=\"dataframe\">\n  <thead>\n    <tr style=\"text-align: right;\">\n      <th></th>\n      <th>Postalcode</th>\n      <th>Borough</th>\n      <th>Neighbourhood</th>\n    </tr>\n  </thead>\n  <tbody>\n    <tr>\n      <th>0</th>\n      <td>M1L</td>\n      <td>Scarborough</td>\n      <td>Clairlea, Golden Mile, Oakridge</td>\n    </tr>\n    <tr>\n      <th>1</th>\n      <td>M2M</td>\n      <td>North York</td>\n      <td>Newtonbrook, Willowdale</td>\n    </tr>\n    <tr>\n      <th>2</th>\n      <td>M1V</td>\n      <td>Scarborough</td>\n      <td>Agincourt North, Milliken</td>\n    </tr>\n    <tr>\n      <th>3</th>\n      <td>M5E</td>\n      <td>Downtown Toronto</td>\n      <td>Berczy Park</td>\n    </tr>\n    <tr>\n      <th>4</th>\n      <td>M6B</td>\n      <td>North York</td>\n      <td>Glencairn</td>\n    </tr>\n    <tr>\n      <th>5</th>\n      <td>M6H</td>\n      <td>West Toronto</td>\n      <td>Dovercourt Village</td>\n    </tr>\n    <tr>\n      <th>6</th>\n      <td>M3H</td>\n      <td>North York</td>\n      <td>Bathurst Manor, Wilson Heights</td>\n    </tr>\n    <tr>\n      <th>7</th>\n      <td>M4V</td>\n      <td>Central Toronto</td>\n      <td>Deer Park, Rathnelly, South Hill</td>\n    </tr>\n    <tr>\n      <th>8</th>\n      <td>M5L</td>\n      <td>Downtown Toronto</td>\n      <td>Commerce Court</td>\n    </tr>\n    <tr>\n      <th>9</th>\n      <td>M5P</td>\n      <td>Central Toronto</td>\n      <td>Forest Hill North</td>\n    </tr>\n    <tr>\n      <th>10</th>\n      <td>M9R</td>\n      <td>Etobicoke</td>\n      <td>Kingsview Village</td>\n    </tr>\n    <tr>\n      <th>11</th>\n      <td>M5A</td>\n      <td>Downtown Toronto</td>\n      <td>Harbourfront, Regent Park</td>\n    </tr>\n    <tr>\n      <th>12</th>\n      <td>M1C</td>\n      <td>Scarborough</td>\n      <td>Highland Creek, Rouge Hill, Port Union</td>\n    </tr>\n    <tr>\n      <th>13</th>\n      <td>M1B</td>\n      <td>Scarborough</td>\n      <td>Rouge, Malvern</td>\n    </tr>\n    <tr>\n      <th>14</th>\n      <td>M3A</td>\n      <td>North York</td>\n      <td>Parkwoods</td>\n    </tr>\n  </tbody>\n</table>\n</div>", 
                        "text/plain": "   Postalcode           Borough                           Neighbourhood\n0         M1L       Scarborough         Clairlea, Golden Mile, Oakridge\n1         M2M        North York                 Newtonbrook, Willowdale\n2         M1V       Scarborough               Agincourt North, Milliken\n3         M5E  Downtown Toronto                             Berczy Park\n4         M6B        North York                               Glencairn\n5         M6H      West Toronto                      Dovercourt Village\n6         M3H        North York          Bathurst Manor, Wilson Heights\n7         M4V   Central Toronto        Deer Park, Rathnelly, South Hill\n8         M5L  Downtown Toronto                          Commerce Court\n9         M5P   Central Toronto                       Forest Hill North\n10        M9R         Etobicoke                       Kingsview Village\n11        M5A  Downtown Toronto               Harbourfront, Regent Park\n12        M1C       Scarborough  Highland Creek, Rouge Hill, Port Union\n13        M1B       Scarborough                          Rouge, Malvern\n14        M3A        North York                               Parkwoods"
                    }, 
                    "execution_count": 9, 
                    "metadata": {}
                }
            ], 
            "execution_count": 9
        }, 
        {
            "source": "**Extracting Latitude and Longtitude for each Postal code in Toronto and concating them to our data frame**", 
            "cell_type": "markdown", 
            "metadata": {}
        }, 
        {
            "source": "latLong = pd.read_csv('http://cocl.us/Geospatial_data')\nlatLong = latLong.astype(object)\nnew = pd.concat([df_toronto, latLong], axis = 1, join = 'inner')\ndf_toronto = new.copy()", 
            "cell_type": "code", 
            "metadata": {}, 
            "outputs": [], 
            "execution_count": 11
        }, 
        {
            "source": "df_toronto.head(12)\n", 
            "cell_type": "code", 
            "metadata": {}, 
            "outputs": [
                {
                    "output_type": "execute_result", 
                    "data": {
                        "text/html": "<div>\n<style scoped>\n    .dataframe tbody tr th:only-of-type {\n        vertical-align: middle;\n    }\n\n    .dataframe tbody tr th {\n        vertical-align: top;\n    }\n\n    .dataframe thead th {\n        text-align: right;\n    }\n</style>\n<table border=\"1\" class=\"dataframe\">\n  <thead>\n    <tr style=\"text-align: right;\">\n      <th></th>\n      <th>Postalcode</th>\n      <th>Borough</th>\n      <th>Neighbourhood</th>\n      <th>Postal Code</th>\n      <th>Latitude</th>\n      <th>Longitude</th>\n    </tr>\n  </thead>\n  <tbody>\n    <tr>\n      <th>0</th>\n      <td>M1L</td>\n      <td>Scarborough</td>\n      <td>Clairlea, Golden Mile, Oakridge</td>\n      <td>M1B</td>\n      <td>43.8067</td>\n      <td>-79.1944</td>\n    </tr>\n    <tr>\n      <th>1</th>\n      <td>M2M</td>\n      <td>North York</td>\n      <td>Newtonbrook, Willowdale</td>\n      <td>M1C</td>\n      <td>43.7845</td>\n      <td>-79.1605</td>\n    </tr>\n    <tr>\n      <th>2</th>\n      <td>M1V</td>\n      <td>Scarborough</td>\n      <td>Agincourt North, Milliken</td>\n      <td>M1E</td>\n      <td>43.7636</td>\n      <td>-79.1887</td>\n    </tr>\n    <tr>\n      <th>3</th>\n      <td>M5E</td>\n      <td>Downtown Toronto</td>\n      <td>Berczy Park</td>\n      <td>M1G</td>\n      <td>43.771</td>\n      <td>-79.2169</td>\n    </tr>\n    <tr>\n      <th>4</th>\n      <td>M6B</td>\n      <td>North York</td>\n      <td>Glencairn</td>\n      <td>M1H</td>\n      <td>43.7731</td>\n      <td>-79.2395</td>\n    </tr>\n    <tr>\n      <th>5</th>\n      <td>M6H</td>\n      <td>West Toronto</td>\n      <td>Dovercourt Village</td>\n      <td>M1J</td>\n      <td>43.7447</td>\n      <td>-79.2395</td>\n    </tr>\n    <tr>\n      <th>6</th>\n      <td>M3H</td>\n      <td>North York</td>\n      <td>Bathurst Manor, Wilson Heights</td>\n      <td>M1K</td>\n      <td>43.7279</td>\n      <td>-79.262</td>\n    </tr>\n    <tr>\n      <th>7</th>\n      <td>M4V</td>\n      <td>Central Toronto</td>\n      <td>Deer Park, Rathnelly, South Hill</td>\n      <td>M1L</td>\n      <td>43.7111</td>\n      <td>-79.2846</td>\n    </tr>\n    <tr>\n      <th>8</th>\n      <td>M5L</td>\n      <td>Downtown Toronto</td>\n      <td>Commerce Court</td>\n      <td>M1M</td>\n      <td>43.7163</td>\n      <td>-79.2395</td>\n    </tr>\n    <tr>\n      <th>9</th>\n      <td>M5P</td>\n      <td>Central Toronto</td>\n      <td>Forest Hill North</td>\n      <td>M1N</td>\n      <td>43.6927</td>\n      <td>-79.2648</td>\n    </tr>\n    <tr>\n      <th>10</th>\n      <td>M9R</td>\n      <td>Etobicoke</td>\n      <td>Kingsview Village</td>\n      <td>M1P</td>\n      <td>43.7574</td>\n      <td>-79.2733</td>\n    </tr>\n    <tr>\n      <th>11</th>\n      <td>M5A</td>\n      <td>Downtown Toronto</td>\n      <td>Harbourfront, Regent Park</td>\n      <td>M1R</td>\n      <td>43.7501</td>\n      <td>-79.2958</td>\n    </tr>\n  </tbody>\n</table>\n</div>", 
                        "text/plain": "   Postalcode           Borough                     Neighbourhood Postal Code  \\\n0         M1L       Scarborough   Clairlea, Golden Mile, Oakridge         M1B   \n1         M2M        North York           Newtonbrook, Willowdale         M1C   \n2         M1V       Scarborough         Agincourt North, Milliken         M1E   \n3         M5E  Downtown Toronto                       Berczy Park         M1G   \n4         M6B        North York                         Glencairn         M1H   \n5         M6H      West Toronto                Dovercourt Village         M1J   \n6         M3H        North York    Bathurst Manor, Wilson Heights         M1K   \n7         M4V   Central Toronto  Deer Park, Rathnelly, South Hill         M1L   \n8         M5L  Downtown Toronto                    Commerce Court         M1M   \n9         M5P   Central Toronto                 Forest Hill North         M1N   \n10        M9R         Etobicoke                 Kingsview Village         M1P   \n11        M5A  Downtown Toronto         Harbourfront, Regent Park         M1R   \n\n   Latitude Longitude  \n0   43.8067  -79.1944  \n1   43.7845  -79.1605  \n2   43.7636  -79.1887  \n3    43.771  -79.2169  \n4   43.7731  -79.2395  \n5   43.7447  -79.2395  \n6   43.7279   -79.262  \n7   43.7111  -79.2846  \n8   43.7163  -79.2395  \n9   43.6927  -79.2648  \n10  43.7574  -79.2733  \n11  43.7501  -79.2958  "
                    }, 
                    "execution_count": 12, 
                    "metadata": {}
                }
            ], 
            "execution_count": 12
        }, 
        {
            "source": "df_toronto.to_csv('toronto_base.csv')", 
            "cell_type": "code", 
            "metadata": {}, 
            "outputs": [], 
            "execution_count": 14
        }
    ], 
    "metadata": {
        "kernelspec": {
            "display_name": "Python 3.5", 
            "name": "python3", 
            "language": "python"
        }, 
        "language_info": {
            "mimetype": "text/x-python", 
            "nbconvert_exporter": "python", 
            "version": "3.5.5", 
            "name": "python", 
            "pygments_lexer": "ipython3", 
            "file_extension": ".py", 
            "codemirror_mode": {
                "version": 3, 
                "name": "ipython"
            }
        }
    }, 
    "nbformat": 4
}